{
 "cells": [
  {
   "cell_type": "code",
   "execution_count": 1,
   "metadata": {},
   "outputs": [
    {
     "data": {
      "text/html": [
       "<table>\n",
       "<thead><tr><th scope=col>hr</th><th scope=col>holiday</th><th scope=col>workingday</th><th scope=col>weathersit</th><th scope=col>temp</th><th scope=col>atemp</th><th scope=col>hum</th><th scope=col>windspeed</th><th scope=col>cnt</th><th scope=col>instant</th><th scope=col>mnth</th><th scope=col>yr</th></tr></thead>\n",
       "<tbody>\n",
       "\t<tr><td>0                     </td><td>FALSE                 </td><td>FALSE                 </td><td>Clear to partly cloudy</td><td>0.76                  </td><td>0.7273                </td><td>0.66                  </td><td>0.0000                </td><td>149                   </td><td>13004                 </td><td>7                     </td><td>1                     </td></tr>\n",
       "\t<tr><td>1                     </td><td>FALSE                 </td><td>FALSE                 </td><td>Clear to partly cloudy</td><td>0.74                  </td><td>0.6970                </td><td>0.70                  </td><td>0.1343                </td><td> 93                   </td><td>13005                 </td><td>7                     </td><td>1                     </td></tr>\n",
       "\t<tr><td>2                     </td><td>FALSE                 </td><td>FALSE                 </td><td>Clear to partly cloudy</td><td>0.72                  </td><td>0.6970                </td><td>0.74                  </td><td>0.0896                </td><td> 90                   </td><td>13006                 </td><td>7                     </td><td>1                     </td></tr>\n",
       "\t<tr><td>3                     </td><td>FALSE                 </td><td>FALSE                 </td><td>Clear to partly cloudy</td><td>0.72                  </td><td>0.7121                </td><td>0.84                  </td><td>0.1343                </td><td> 33                   </td><td>13007                 </td><td>7                     </td><td>1                     </td></tr>\n",
       "\t<tr><td>4                     </td><td>FALSE                 </td><td>FALSE                 </td><td>Clear to partly cloudy</td><td>0.70                  </td><td>0.6667                </td><td>0.79                  </td><td>0.1940                </td><td>  4                   </td><td>13008                 </td><td>7                     </td><td>1                     </td></tr>\n",
       "\t<tr><td>5                     </td><td>FALSE                 </td><td>FALSE                 </td><td>Clear to partly cloudy</td><td>0.68                  </td><td>0.6364                </td><td>0.79                  </td><td>0.1045                </td><td> 10                   </td><td>13009                 </td><td>7                     </td><td>1                     </td></tr>\n",
       "</tbody>\n",
       "</table>\n"
      ],
      "text/latex": [
       "\\begin{tabular}{r|llllllllllll}\n",
       " hr & holiday & workingday & weathersit & temp & atemp & hum & windspeed & cnt & instant & mnth & yr\\\\\n",
       "\\hline\n",
       "\t 0                      & FALSE                  & FALSE                  & Clear to partly cloudy & 0.76                   & 0.7273                 & 0.66                   & 0.0000                 & 149                    & 13004                  & 7                      & 1                     \\\\\n",
       "\t 1                      & FALSE                  & FALSE                  & Clear to partly cloudy & 0.74                   & 0.6970                 & 0.70                   & 0.1343                 &  93                    & 13005                  & 7                      & 1                     \\\\\n",
       "\t 2                      & FALSE                  & FALSE                  & Clear to partly cloudy & 0.72                   & 0.6970                 & 0.74                   & 0.0896                 &  90                    & 13006                  & 7                      & 1                     \\\\\n",
       "\t 3                      & FALSE                  & FALSE                  & Clear to partly cloudy & 0.72                   & 0.7121                 & 0.84                   & 0.1343                 &  33                    & 13007                  & 7                      & 1                     \\\\\n",
       "\t 4                      & FALSE                  & FALSE                  & Clear to partly cloudy & 0.70                   & 0.6667                 & 0.79                   & 0.1940                 &   4                    & 13008                  & 7                      & 1                     \\\\\n",
       "\t 5                      & FALSE                  & FALSE                  & Clear to partly cloudy & 0.68                   & 0.6364                 & 0.79                   & 0.1045                 &  10                    & 13009                  & 7                      & 1                     \\\\\n",
       "\\end{tabular}\n"
      ],
      "text/markdown": [
       "\n",
       "| hr | holiday | workingday | weathersit | temp | atemp | hum | windspeed | cnt | instant | mnth | yr |\n",
       "|---|---|---|---|---|---|---|---|---|---|---|---|\n",
       "| 0                      | FALSE                  | FALSE                  | Clear to partly cloudy | 0.76                   | 0.7273                 | 0.66                   | 0.0000                 | 149                    | 13004                  | 7                      | 1                      |\n",
       "| 1                      | FALSE                  | FALSE                  | Clear to partly cloudy | 0.74                   | 0.6970                 | 0.70                   | 0.1343                 |  93                    | 13005                  | 7                      | 1                      |\n",
       "| 2                      | FALSE                  | FALSE                  | Clear to partly cloudy | 0.72                   | 0.6970                 | 0.74                   | 0.0896                 |  90                    | 13006                  | 7                      | 1                      |\n",
       "| 3                      | FALSE                  | FALSE                  | Clear to partly cloudy | 0.72                   | 0.7121                 | 0.84                   | 0.1343                 |  33                    | 13007                  | 7                      | 1                      |\n",
       "| 4                      | FALSE                  | FALSE                  | Clear to partly cloudy | 0.70                   | 0.6667                 | 0.79                   | 0.1940                 |   4                    | 13008                  | 7                      | 1                      |\n",
       "| 5                      | FALSE                  | FALSE                  | Clear to partly cloudy | 0.68                   | 0.6364                 | 0.79                   | 0.1045                 |  10                    | 13009                  | 7                      | 1                      |\n",
       "\n"
      ],
      "text/plain": [
       "  hr holiday workingday weathersit             temp atemp  hum  windspeed cnt\n",
       "1 0  FALSE   FALSE      Clear to partly cloudy 0.76 0.7273 0.66 0.0000    149\n",
       "2 1  FALSE   FALSE      Clear to partly cloudy 0.74 0.6970 0.70 0.1343     93\n",
       "3 2  FALSE   FALSE      Clear to partly cloudy 0.72 0.6970 0.74 0.0896     90\n",
       "4 3  FALSE   FALSE      Clear to partly cloudy 0.72 0.7121 0.84 0.1343     33\n",
       "5 4  FALSE   FALSE      Clear to partly cloudy 0.70 0.6667 0.79 0.1940      4\n",
       "6 5  FALSE   FALSE      Clear to partly cloudy 0.68 0.6364 0.79 0.1045     10\n",
       "  instant mnth yr\n",
       "1 13004   7    1 \n",
       "2 13005   7    1 \n",
       "3 13006   7    1 \n",
       "4 13007   7    1 \n",
       "5 13008   7    1 \n",
       "6 13009   7    1 "
      ]
     },
     "metadata": {},
     "output_type": "display_data"
    }
   ],
   "source": [
    "# Importing Washington DC Bike Rental Data\n",
    "load(\"C:/Users/Dell/Desktop/Datasets 19/Bikes.RData\")\n",
    "head(bikesJuly)"
   ]
  },
  {
   "cell_type": "code",
   "execution_count": 2,
   "metadata": {},
   "outputs": [
    {
     "data": {
      "text/html": [
       "'cnt'"
      ],
      "text/latex": [
       "'cnt'"
      ],
      "text/markdown": [
       "'cnt'"
      ],
      "text/plain": [
       "[1] \"cnt\""
      ]
     },
     "metadata": {},
     "output_type": "display_data"
    },
    {
     "data": {
      "text/html": [
       "<ol class=list-inline>\n",
       "\t<li>'hr'</li>\n",
       "\t<li>'holiday'</li>\n",
       "\t<li>'workingday'</li>\n",
       "\t<li>'weathersit'</li>\n",
       "\t<li>'temp'</li>\n",
       "\t<li>'atemp'</li>\n",
       "\t<li>'hum'</li>\n",
       "\t<li>'windspeed'</li>\n",
       "</ol>\n"
      ],
      "text/latex": [
       "\\begin{enumerate*}\n",
       "\\item 'hr'\n",
       "\\item 'holiday'\n",
       "\\item 'workingday'\n",
       "\\item 'weathersit'\n",
       "\\item 'temp'\n",
       "\\item 'atemp'\n",
       "\\item 'hum'\n",
       "\\item 'windspeed'\n",
       "\\end{enumerate*}\n"
      ],
      "text/markdown": [
       "1. 'hr'\n",
       "2. 'holiday'\n",
       "3. 'workingday'\n",
       "4. 'weathersit'\n",
       "5. 'temp'\n",
       "6. 'atemp'\n",
       "7. 'hum'\n",
       "8. 'windspeed'\n",
       "\n",
       "\n"
      ],
      "text/plain": [
       "[1] \"hr\"         \"holiday\"    \"workingday\" \"weathersit\" \"temp\"      \n",
       "[6] \"atemp\"      \"hum\"        \"windspeed\" "
      ]
     },
     "metadata": {},
     "output_type": "display_data"
    },
    {
     "data": {
      "text/html": [
       "'cnt ~ hr + holiday + workingday + weathersit + temp + atemp + hum + windspeed'"
      ],
      "text/latex": [
       "'cnt \\textasciitilde{} hr + holiday + workingday + weathersit + temp + atemp + hum + windspeed'"
      ],
      "text/markdown": [
       "'cnt ~ hr + holiday + workingday + weathersit + temp + atemp + hum + windspeed'"
      ],
      "text/plain": [
       "[1] \"cnt ~ hr + holiday + workingday + weathersit + temp + atemp + hum + windspeed\""
      ]
     },
     "metadata": {},
     "output_type": "display_data"
    }
   ],
   "source": [
    "# Outcome and input variables\n",
    "(outcome <- \"cnt\")\n",
    "(vars <- c(\"hr\", \"holiday\", \"workingday\", \"weathersit\", \"temp\", \"atemp\", \"hum\", \"windspeed\"))\n",
    "# The formula string for bikes rented as a function of the inputs\n",
    "(fmla <- paste(outcome, \"~\", paste(vars, collapse = \" + \")))"
   ]
  },
  {
   "cell_type": "code",
   "execution_count": 3,
   "metadata": {},
   "outputs": [
    {
     "name": "stderr",
     "output_type": "stream",
     "text": [
      "Installing package into 'C:/Users/Dell/Documents/R/win-library/3.6'\n",
      "(as 'lib' is unspecified)\n"
     ]
    },
    {
     "name": "stdout",
     "output_type": "stream",
     "text": [
      "package 'ranger' successfully unpacked and MD5 sums checked\n",
      "\n",
      "The downloaded binary packages are in\n",
      "\tC:\\Users\\Dell\\AppData\\Local\\Temp\\Rtmp0SArk6\\downloaded_packages\n"
     ]
    },
    {
     "name": "stderr",
     "output_type": "stream",
     "text": [
      "Warning message:\n",
      "\"package 'ranger' was built under R version 3.6.3\""
     ]
    },
    {
     "data": {
      "text/html": [
       "<pre class=language-r><code>function (seed, kind = NULL, normal.kind = NULL, sample.kind = NULL) \n",
       "{\n",
       "<span style=white-space:pre-wrap>    kinds &lt;- c(\"Wichmann-Hill\", \"Marsaglia-Multicarry\", \"Super-Duper\", </span>\n",
       "<span style=white-space:pre-wrap>        \"Mersenne-Twister\", \"Knuth-TAOCP\", \"user-supplied\", \"Knuth-TAOCP-2002\", </span>\n",
       "<span style=white-space:pre-wrap>        \"L'Ecuyer-CMRG\", \"default\")</span>\n",
       "<span style=white-space:pre-wrap>    n.kinds &lt;- c(\"Buggy Kinderman-Ramage\", \"Ahrens-Dieter\", \"Box-Muller\", </span>\n",
       "<span style=white-space:pre-wrap>        \"user-supplied\", \"Inversion\", \"Kinderman-Ramage\", \"default\")</span>\n",
       "<span style=white-space:pre-wrap>    s.kinds &lt;- c(\"Rounding\", \"Rejection\", \"default\")</span>\n",
       "<span style=white-space:pre-wrap>    if (length(kind)) {</span>\n",
       "<span style=white-space:pre-wrap>        if (!is.character(kind) || length(kind) &gt; 1L) </span>\n",
       "<span style=white-space:pre-wrap>            stop(\"'kind' must be a character string of length 1 (RNG to be used).\")</span>\n",
       "<span style=white-space:pre-wrap>        if (is.na(i.knd &lt;- pmatch(kind, kinds) - 1L)) </span>\n",
       "<span style=white-space:pre-wrap>            stop(gettextf(\"'%s' is not a valid abbreviation of an RNG\", </span>\n",
       "<span style=white-space:pre-wrap>                kind), domain = NA)</span>\n",
       "<span style=white-space:pre-wrap>        if (i.knd == length(kinds) - 1L) </span>\n",
       "<span style=white-space:pre-wrap>            i.knd &lt;- -1L</span>\n",
       "<span style=white-space:pre-wrap>    }</span>\n",
       "<span style=white-space:pre-wrap>    else i.knd &lt;- NULL</span>\n",
       "<span style=white-space:pre-wrap>    if (!is.null(normal.kind)) {</span>\n",
       "<span style=white-space:pre-wrap>        if (!is.character(normal.kind) || length(normal.kind) != </span>\n",
       "<span style=white-space:pre-wrap>            1L) </span>\n",
       "<span style=white-space:pre-wrap>            stop(\"'normal.kind' must be a character string of length 1\")</span>\n",
       "<span style=white-space:pre-wrap>        normal.kind &lt;- pmatch(normal.kind, n.kinds) - 1L</span>\n",
       "<span style=white-space:pre-wrap>        if (is.na(normal.kind)) </span>\n",
       "<span style=white-space:pre-wrap>            stop(gettextf(\"'%s' is not a valid choice\", normal.kind), </span>\n",
       "<span style=white-space:pre-wrap>                domain = NA)</span>\n",
       "<span style=white-space:pre-wrap>        if (normal.kind == 0L) </span>\n",
       "<span style=white-space:pre-wrap>            stop(\"buggy version of Kinderman-Ramage generator is not allowed\", </span>\n",
       "<span style=white-space:pre-wrap>                domain = NA)</span>\n",
       "<span style=white-space:pre-wrap>        if (normal.kind == length(n.kinds) - 1L) </span>\n",
       "<span style=white-space:pre-wrap>            normal.kind &lt;- -1L</span>\n",
       "<span style=white-space:pre-wrap>    }</span>\n",
       "<span style=white-space:pre-wrap>    if (!is.null(sample.kind)) {</span>\n",
       "<span style=white-space:pre-wrap>        if (!is.character(sample.kind) || length(sample.kind) != </span>\n",
       "<span style=white-space:pre-wrap>            1L) </span>\n",
       "<span style=white-space:pre-wrap>            stop(\"'sample.kind' must be a character string of length 1\")</span>\n",
       "<span style=white-space:pre-wrap>        sample.kind &lt;- pmatch(sample.kind, s.kinds) - 1L</span>\n",
       "<span style=white-space:pre-wrap>        if (is.na(sample.kind)) </span>\n",
       "<span style=white-space:pre-wrap>            stop(gettextf(\"'%s' is not a valid choice\", sample.kind), </span>\n",
       "<span style=white-space:pre-wrap>                domain = NA)</span>\n",
       "<span style=white-space:pre-wrap>        if (sample.kind == 0L) </span>\n",
       "<span style=white-space:pre-wrap>            warning(\"non-uniform 'Rounding' sampler used\", domain = NA)</span>\n",
       "<span style=white-space:pre-wrap>        if (sample.kind == length(s.kinds) - 1L) </span>\n",
       "<span style=white-space:pre-wrap>            sample.kind &lt;- -1L</span>\n",
       "<span style=white-space:pre-wrap>    }</span>\n",
       "<span style=white-space:pre-wrap>    .Internal(set.seed(seed, i.knd, normal.kind, sample.kind))</span>\n",
       "}</code></pre>"
      ],
      "text/latex": [
       "\\begin{minted}{r}\n",
       "function (seed, kind = NULL, normal.kind = NULL, sample.kind = NULL) \n",
       "\\{\n",
       "    kinds <- c(\"Wichmann-Hill\", \"Marsaglia-Multicarry\", \"Super-Duper\", \n",
       "        \"Mersenne-Twister\", \"Knuth-TAOCP\", \"user-supplied\", \"Knuth-TAOCP-2002\", \n",
       "        \"L'Ecuyer-CMRG\", \"default\")\n",
       "    n.kinds <- c(\"Buggy Kinderman-Ramage\", \"Ahrens-Dieter\", \"Box-Muller\", \n",
       "        \"user-supplied\", \"Inversion\", \"Kinderman-Ramage\", \"default\")\n",
       "    s.kinds <- c(\"Rounding\", \"Rejection\", \"default\")\n",
       "    if (length(kind)) \\{\n",
       "        if (!is.character(kind) \\textbar{}\\textbar{} length(kind) > 1L) \n",
       "            stop(\"'kind' must be a character string of length 1 (RNG to be used).\")\n",
       "        if (is.na(i.knd <- pmatch(kind, kinds) - 1L)) \n",
       "            stop(gettextf(\"'\\%s' is not a valid abbreviation of an RNG\", \n",
       "                kind), domain = NA)\n",
       "        if (i.knd == length(kinds) - 1L) \n",
       "            i.knd <- -1L\n",
       "    \\}\n",
       "    else i.knd <- NULL\n",
       "    if (!is.null(normal.kind)) \\{\n",
       "        if (!is.character(normal.kind) \\textbar{}\\textbar{} length(normal.kind) != \n",
       "            1L) \n",
       "            stop(\"'normal.kind' must be a character string of length 1\")\n",
       "        normal.kind <- pmatch(normal.kind, n.kinds) - 1L\n",
       "        if (is.na(normal.kind)) \n",
       "            stop(gettextf(\"'\\%s' is not a valid choice\", normal.kind), \n",
       "                domain = NA)\n",
       "        if (normal.kind == 0L) \n",
       "            stop(\"buggy version of Kinderman-Ramage generator is not allowed\", \n",
       "                domain = NA)\n",
       "        if (normal.kind == length(n.kinds) - 1L) \n",
       "            normal.kind <- -1L\n",
       "    \\}\n",
       "    if (!is.null(sample.kind)) \\{\n",
       "        if (!is.character(sample.kind) \\textbar{}\\textbar{} length(sample.kind) != \n",
       "            1L) \n",
       "            stop(\"'sample.kind' must be a character string of length 1\")\n",
       "        sample.kind <- pmatch(sample.kind, s.kinds) - 1L\n",
       "        if (is.na(sample.kind)) \n",
       "            stop(gettextf(\"'\\%s' is not a valid choice\", sample.kind), \n",
       "                domain = NA)\n",
       "        if (sample.kind == 0L) \n",
       "            warning(\"non-uniform 'Rounding' sampler used\", domain = NA)\n",
       "        if (sample.kind == length(s.kinds) - 1L) \n",
       "            sample.kind <- -1L\n",
       "    \\}\n",
       "    .Internal(set.seed(seed, i.knd, normal.kind, sample.kind))\n",
       "\\}\n",
       "\\end{minted}"
      ],
      "text/markdown": [
       "```r\n",
       "function (seed, kind = NULL, normal.kind = NULL, sample.kind = NULL) \n",
       "{\n",
       "    kinds <- c(\"Wichmann-Hill\", \"Marsaglia-Multicarry\", \"Super-Duper\", \n",
       "        \"Mersenne-Twister\", \"Knuth-TAOCP\", \"user-supplied\", \"Knuth-TAOCP-2002\", \n",
       "        \"L'Ecuyer-CMRG\", \"default\")\n",
       "    n.kinds <- c(\"Buggy Kinderman-Ramage\", \"Ahrens-Dieter\", \"Box-Muller\", \n",
       "        \"user-supplied\", \"Inversion\", \"Kinderman-Ramage\", \"default\")\n",
       "    s.kinds <- c(\"Rounding\", \"Rejection\", \"default\")\n",
       "    if (length(kind)) {\n",
       "        if (!is.character(kind) || length(kind) > 1L) \n",
       "            stop(\"'kind' must be a character string of length 1 (RNG to be used).\")\n",
       "        if (is.na(i.knd <- pmatch(kind, kinds) - 1L)) \n",
       "            stop(gettextf(\"'%s' is not a valid abbreviation of an RNG\", \n",
       "                kind), domain = NA)\n",
       "        if (i.knd == length(kinds) - 1L) \n",
       "            i.knd <- -1L\n",
       "    }\n",
       "    else i.knd <- NULL\n",
       "    if (!is.null(normal.kind)) {\n",
       "        if (!is.character(normal.kind) || length(normal.kind) != \n",
       "            1L) \n",
       "            stop(\"'normal.kind' must be a character string of length 1\")\n",
       "        normal.kind <- pmatch(normal.kind, n.kinds) - 1L\n",
       "        if (is.na(normal.kind)) \n",
       "            stop(gettextf(\"'%s' is not a valid choice\", normal.kind), \n",
       "                domain = NA)\n",
       "        if (normal.kind == 0L) \n",
       "            stop(\"buggy version of Kinderman-Ramage generator is not allowed\", \n",
       "                domain = NA)\n",
       "        if (normal.kind == length(n.kinds) - 1L) \n",
       "            normal.kind <- -1L\n",
       "    }\n",
       "    if (!is.null(sample.kind)) {\n",
       "        if (!is.character(sample.kind) || length(sample.kind) != \n",
       "            1L) \n",
       "            stop(\"'sample.kind' must be a character string of length 1\")\n",
       "        sample.kind <- pmatch(sample.kind, s.kinds) - 1L\n",
       "        if (is.na(sample.kind)) \n",
       "            stop(gettextf(\"'%s' is not a valid choice\", sample.kind), \n",
       "                domain = NA)\n",
       "        if (sample.kind == 0L) \n",
       "            warning(\"non-uniform 'Rounding' sampler used\", domain = NA)\n",
       "        if (sample.kind == length(s.kinds) - 1L) \n",
       "            sample.kind <- -1L\n",
       "    }\n",
       "    .Internal(set.seed(seed, i.knd, normal.kind, sample.kind))\n",
       "}\n",
       "```"
      ],
      "text/plain": [
       "function (seed, kind = NULL, normal.kind = NULL, sample.kind = NULL) \n",
       "{\n",
       "    kinds <- c(\"Wichmann-Hill\", \"Marsaglia-Multicarry\", \"Super-Duper\", \n",
       "        \"Mersenne-Twister\", \"Knuth-TAOCP\", \"user-supplied\", \"Knuth-TAOCP-2002\", \n",
       "        \"L'Ecuyer-CMRG\", \"default\")\n",
       "    n.kinds <- c(\"Buggy Kinderman-Ramage\", \"Ahrens-Dieter\", \"Box-Muller\", \n",
       "        \"user-supplied\", \"Inversion\", \"Kinderman-Ramage\", \"default\")\n",
       "    s.kinds <- c(\"Rounding\", \"Rejection\", \"default\")\n",
       "    if (length(kind)) {\n",
       "        if (!is.character(kind) || length(kind) > 1L) \n",
       "            stop(\"'kind' must be a character string of length 1 (RNG to be used).\")\n",
       "        if (is.na(i.knd <- pmatch(kind, kinds) - 1L)) \n",
       "            stop(gettextf(\"'%s' is not a valid abbreviation of an RNG\", \n",
       "                kind), domain = NA)\n",
       "        if (i.knd == length(kinds) - 1L) \n",
       "            i.knd <- -1L\n",
       "    }\n",
       "    else i.knd <- NULL\n",
       "    if (!is.null(normal.kind)) {\n",
       "        if (!is.character(normal.kind) || length(normal.kind) != \n",
       "            1L) \n",
       "            stop(\"'normal.kind' must be a character string of length 1\")\n",
       "        normal.kind <- pmatch(normal.kind, n.kinds) - 1L\n",
       "        if (is.na(normal.kind)) \n",
       "            stop(gettextf(\"'%s' is not a valid choice\", normal.kind), \n",
       "                domain = NA)\n",
       "        if (normal.kind == 0L) \n",
       "            stop(\"buggy version of Kinderman-Ramage generator is not allowed\", \n",
       "                domain = NA)\n",
       "        if (normal.kind == length(n.kinds) - 1L) \n",
       "            normal.kind <- -1L\n",
       "    }\n",
       "    if (!is.null(sample.kind)) {\n",
       "        if (!is.character(sample.kind) || length(sample.kind) != \n",
       "            1L) \n",
       "            stop(\"'sample.kind' must be a character string of length 1\")\n",
       "        sample.kind <- pmatch(sample.kind, s.kinds) - 1L\n",
       "        if (is.na(sample.kind)) \n",
       "            stop(gettextf(\"'%s' is not a valid choice\", sample.kind), \n",
       "                domain = NA)\n",
       "        if (sample.kind == 0L) \n",
       "            warning(\"non-uniform 'Rounding' sampler used\", domain = NA)\n",
       "        if (sample.kind == length(s.kinds) - 1L) \n",
       "            sample.kind <- -1L\n",
       "    }\n",
       "    .Internal(set.seed(seed, i.knd, normal.kind, sample.kind))\n",
       "}\n",
       "<bytecode: 0x000000002edcd508>\n",
       "<environment: namespace:base>"
      ]
     },
     "metadata": {},
     "output_type": "display_data"
    },
    {
     "data": {
      "text/plain": [
       "Ranger result\n",
       "\n",
       "Call:\n",
       " ranger(fmla, bikesJuly, num.trees = 500, respect.unordered.factors = \"order\") \n",
       "\n",
       "Type:                             Regression \n",
       "Number of trees:                  500 \n",
       "Sample size:                      744 \n",
       "Number of independent variables:  8 \n",
       "Mtry:                             2 \n",
       "Target node size:                 5 \n",
       "Variable importance mode:         none \n",
       "Splitrule:                        variance \n",
       "OOB prediction error (MSE):       8388.733 \n",
       "R squared (OOB):                  0.8170948 "
      ]
     },
     "metadata": {},
     "output_type": "display_data"
    }
   ],
   "source": [
    "# Fitting the Random Forest model with \"ranger\"\n",
    "install.packages(\"ranger\")\n",
    "library(ranger)\n",
    "set.seed\n",
    "(bike_model_rf <- ranger(fmla, \n",
    "                         bikesJuly, \n",
    "                         num.trees = 500, \n",
    "                         respect.unordered.factors = \"order\"))\n",
    "\n",
    "# Training R squared = 0.82"
   ]
  },
  {
   "cell_type": "code",
   "execution_count": 4,
   "metadata": {},
   "outputs": [
    {
     "name": "stderr",
     "output_type": "stream",
     "text": [
      "Warning message:\n",
      "\"package 'tidyverse' was built under R version 3.6.3\"-- Attaching packages --------------------------------------- tidyverse 1.3.0 --\n",
      "v ggplot2 3.3.0     v purrr   0.3.3\n",
      "v tibble  2.1.3     v dplyr   0.8.5\n",
      "v tidyr   1.0.2     v stringr 1.4.0\n",
      "v readr   1.3.1     v forcats 0.5.0\n",
      "Warning message:\n",
      "\"package 'tidyr' was built under R version 3.6.3\"Warning message:\n",
      "\"package 'readr' was built under R version 3.6.3\"Warning message:\n",
      "\"package 'purrr' was built under R version 3.6.3\"Warning message:\n",
      "\"package 'dplyr' was built under R version 3.6.3\"Warning message:\n",
      "\"package 'forcats' was built under R version 3.6.3\"-- Conflicts ------------------------------------------ tidyverse_conflicts() --\n",
      "x dplyr::filter() masks stats::filter()\n",
      "x dplyr::lag()    masks stats::lag()\n"
     ]
    },
    {
     "data": {
      "text/html": [
       "<table>\n",
       "<thead><tr><th scope=col>rmse</th></tr></thead>\n",
       "<tbody>\n",
       "\t<tr><td>97.80169</td></tr>\n",
       "</tbody>\n",
       "</table>\n"
      ],
      "text/latex": [
       "\\begin{tabular}{r|l}\n",
       " rmse\\\\\n",
       "\\hline\n",
       "\t 97.80169\\\\\n",
       "\\end{tabular}\n"
      ],
      "text/markdown": [
       "\n",
       "| rmse |\n",
       "|---|\n",
       "| 97.80169 |\n",
       "\n"
      ],
      "text/plain": [
       "  rmse    \n",
       "1 97.80169"
      ]
     },
     "metadata": {},
     "output_type": "display_data"
    }
   ],
   "source": [
    "# Predictions on the August data\n",
    "bikesAugust$pred <- predict(bike_model_rf, bikesAugust)$predictions\n",
    "# Calculate the RMSE of the predictions\n",
    "library(tidyverse)\n",
    "bikesAugust %>% \n",
    "  mutate(residual = cnt - pred)  %>%        # calculating the residual\n",
    "  summarize(rmse  = sqrt(mean(residual^2))) # calculating rmse"
   ]
  },
  {
   "cell_type": "code",
   "execution_count": 5,
   "metadata": {},
   "outputs": [
    {
     "data": {
      "image/png": "[encoded data removed]",
      "text/plain": [
       "plot without title"
      ]
     },
     "metadata": {},
     "output_type": "display_data"
    }
   ],
   "source": [
    "# Plot of actual outcome vs predictions (predictions on x-axis)\n",
    "ggplot(bikesAugust, aes(x = pred, y = cnt)) + \n",
    "  geom_point() + \n",
    "  geom_abline()"
   ]
  },
  {
   "cell_type": "code",
   "execution_count": 6,
   "metadata": {},
   "outputs": [
    {
     "data": {
      "image/png": "[encoded data removed]",
      "text/plain": [
       "plot without title"
      ]
     },
     "metadata": {},
     "output_type": "display_data"
    }
   ],
   "source": [
    "# First two weeks examined \n",
    "first_two_weeks <- bikesAugust %>% \n",
    "  # Converting unit to days\n",
    "  mutate(instant = (instant - min(instant)) / 24) %>% \n",
    "  # cnt and pred into a column named value with key valuetype\n",
    "  gather(key = valuetype, value = value, cnt, pred) %>%\n",
    "  # Filtering for rows in the first two weeks\n",
    "  filter(instant < 14)\n",
    "\n",
    "# Plot of predictions and cnt by date/time \n",
    "ggplot(first_two_weeks, aes(x = instant, y = value, color = valuetype, linetype = valuetype)) + \n",
    "  geom_point() + \n",
    "  geom_line() + \n",
    "  scale_x_continuous(\"Day\", breaks = 0:14, labels = 0:14) + \n",
    "  scale_color_brewer(palette = \"Dark2\") + \n",
    "  ggtitle(\"Predicted August bike rentals, Random Forest plot\")"
   ]
  },
  {
   "cell_type": "code",
   "execution_count": 7,
   "metadata": {},
   "outputs": [
    {
     "name": "stderr",
     "output_type": "stream",
     "text": [
      "Installing package into 'C:/Users/Dell/Documents/R/win-library/3.6'\n",
      "(as 'lib' is unspecified)\n"
     ]
    },
    {
     "name": "stdout",
     "output_type": "stream",
     "text": [
      "package 'vtreat' successfully unpacked and MD5 sums checked\n",
      "\n",
      "The downloaded binary packages are in\n",
      "\tC:\\Users\\Dell\\AppData\\Local\\Temp\\Rtmp0SArk6\\downloaded_packages\n"
     ]
    },
    {
     "name": "stderr",
     "output_type": "stream",
     "text": [
      "Warning message:\n",
      "\"package 'vtreat' was built under R version 3.6.3\"Loading required package: wrapr\n",
      "Warning message:\n",
      "\"package 'wrapr' was built under R version 3.6.3\"\n",
      "Attaching package: 'wrapr'\n",
      "\n",
      "The following object is masked from 'package:dplyr':\n",
      "\n",
      "    coalesce\n",
      "\n",
      "The following object is masked from 'package:tidyr':\n",
      "\n",
      "    unpack\n",
      "\n",
      "The following object is masked from 'package:tibble':\n",
      "\n",
      "    view\n",
      "\n",
      "Installing package into 'C:/Users/Dell/Documents/R/win-library/3.6'\n",
      "(as 'lib' is unspecified)\n"
     ]
    },
    {
     "name": "stdout",
     "output_type": "stream",
     "text": [
      "package 'magrittr' successfully unpacked and MD5 sums checked\n",
      "\n",
      "The downloaded binary packages are in\n",
      "\tC:\\Users\\Dell\\AppData\\Local\\Temp\\Rtmp0SArk6\\downloaded_packages\n"
     ]
    },
    {
     "name": "stderr",
     "output_type": "stream",
     "text": [
      "Warning message:\n",
      "\"package 'magrittr' was built under R version 3.6.3\"\n",
      "Attaching package: 'magrittr'\n",
      "\n",
      "The following object is masked from 'package:purrr':\n",
      "\n",
      "    set_names\n",
      "\n",
      "The following object is masked from 'package:tidyr':\n",
      "\n",
      "    extract\n",
      "\n"
     ]
    },
    {
     "data": {
      "text/html": [
       "<ol class=list-inline>\n",
       "\t<li>'holiday'</li>\n",
       "\t<li>'workingday'</li>\n",
       "\t<li>'temp'</li>\n",
       "\t<li>'atemp'</li>\n",
       "\t<li>'hum'</li>\n",
       "\t<li>'windspeed'</li>\n",
       "\t<li>'hr_lev_x_0'</li>\n",
       "\t<li>'hr_lev_x_1'</li>\n",
       "\t<li>'hr_lev_x_10'</li>\n",
       "\t<li>'hr_lev_x_11'</li>\n",
       "\t<li>'hr_lev_x_12'</li>\n",
       "\t<li>'hr_lev_x_13'</li>\n",
       "\t<li>'hr_lev_x_14'</li>\n",
       "\t<li>'hr_lev_x_15'</li>\n",
       "\t<li>'hr_lev_x_16'</li>\n",
       "\t<li>'hr_lev_x_17'</li>\n",
       "\t<li>'hr_lev_x_18'</li>\n",
       "\t<li>'hr_lev_x_19'</li>\n",
       "\t<li>'hr_lev_x_2'</li>\n",
       "\t<li>'hr_lev_x_20'</li>\n",
       "\t<li>'hr_lev_x_21'</li>\n",
       "\t<li>'hr_lev_x_22'</li>\n",
       "\t<li>'hr_lev_x_23'</li>\n",
       "\t<li>'hr_lev_x_3'</li>\n",
       "\t<li>'hr_lev_x_4'</li>\n",
       "\t<li>'hr_lev_x_5'</li>\n",
       "\t<li>'hr_lev_x_6'</li>\n",
       "\t<li>'hr_lev_x_7'</li>\n",
       "\t<li>'hr_lev_x_8'</li>\n",
       "\t<li>'hr_lev_x_9'</li>\n",
       "\t<li>'weathersit_lev_x_Clear_to_partly_cloudy'</li>\n",
       "\t<li>'weathersit_lev_x_Light_Precipitation'</li>\n",
       "\t<li>'weathersit_lev_x_Misty'</li>\n",
       "</ol>\n"
      ],
      "text/latex": [
       "\\begin{enumerate*}\n",
       "\\item 'holiday'\n",
       "\\item 'workingday'\n",
       "\\item 'temp'\n",
       "\\item 'atemp'\n",
       "\\item 'hum'\n",
       "\\item 'windspeed'\n",
       "\\item 'hr\\_lev\\_x\\_0'\n",
       "\\item 'hr\\_lev\\_x\\_1'\n",
       "\\item 'hr\\_lev\\_x\\_10'\n",
       "\\item 'hr\\_lev\\_x\\_11'\n",
       "\\item 'hr\\_lev\\_x\\_12'\n",
       "\\item 'hr\\_lev\\_x\\_13'\n",
       "\\item 'hr\\_lev\\_x\\_14'\n",
       "\\item 'hr\\_lev\\_x\\_15'\n",
       "\\item 'hr\\_lev\\_x\\_16'\n",
       "\\item 'hr\\_lev\\_x\\_17'\n",
       "\\item 'hr\\_lev\\_x\\_18'\n",
       "\\item 'hr\\_lev\\_x\\_19'\n",
       "\\item 'hr\\_lev\\_x\\_2'\n",
       "\\item 'hr\\_lev\\_x\\_20'\n",
       "\\item 'hr\\_lev\\_x\\_21'\n",
       "\\item 'hr\\_lev\\_x\\_22'\n",
       "\\item 'hr\\_lev\\_x\\_23'\n",
       "\\item 'hr\\_lev\\_x\\_3'\n",
       "\\item 'hr\\_lev\\_x\\_4'\n",
       "\\item 'hr\\_lev\\_x\\_5'\n",
       "\\item 'hr\\_lev\\_x\\_6'\n",
       "\\item 'hr\\_lev\\_x\\_7'\n",
       "\\item 'hr\\_lev\\_x\\_8'\n",
       "\\item 'hr\\_lev\\_x\\_9'\n",
       "\\item 'weathersit\\_lev\\_x\\_Clear\\_to\\_partly\\_cloudy'\n",
       "\\item 'weathersit\\_lev\\_x\\_Light\\_Precipitation'\n",
       "\\item 'weathersit\\_lev\\_x\\_Misty'\n",
       "\\end{enumerate*}\n"
      ],
      "text/markdown": [
       "1. 'holiday'\n",
       "2. 'workingday'\n",
       "3. 'temp'\n",
       "4. 'atemp'\n",
       "5. 'hum'\n",
       "6. 'windspeed'\n",
       "7. 'hr_lev_x_0'\n",
       "8. 'hr_lev_x_1'\n",
       "9. 'hr_lev_x_10'\n",
       "10. 'hr_lev_x_11'\n",
       "11. 'hr_lev_x_12'\n",
       "12. 'hr_lev_x_13'\n",
       "13. 'hr_lev_x_14'\n",
       "14. 'hr_lev_x_15'\n",
       "15. 'hr_lev_x_16'\n",
       "16. 'hr_lev_x_17'\n",
       "17. 'hr_lev_x_18'\n",
       "18. 'hr_lev_x_19'\n",
       "19. 'hr_lev_x_2'\n",
       "20. 'hr_lev_x_20'\n",
       "21. 'hr_lev_x_21'\n",
       "22. 'hr_lev_x_22'\n",
       "23. 'hr_lev_x_23'\n",
       "24. 'hr_lev_x_3'\n",
       "25. 'hr_lev_x_4'\n",
       "26. 'hr_lev_x_5'\n",
       "27. 'hr_lev_x_6'\n",
       "28. 'hr_lev_x_7'\n",
       "29. 'hr_lev_x_8'\n",
       "30. 'hr_lev_x_9'\n",
       "31. 'weathersit_lev_x_Clear_to_partly_cloudy'\n",
       "32. 'weathersit_lev_x_Light_Precipitation'\n",
       "33. 'weathersit_lev_x_Misty'\n",
       "\n",
       "\n"
      ],
      "text/plain": [
       " [1] \"holiday\"                                \n",
       " [2] \"workingday\"                             \n",
       " [3] \"temp\"                                   \n",
       " [4] \"atemp\"                                  \n",
       " [5] \"hum\"                                    \n",
       " [6] \"windspeed\"                              \n",
       " [7] \"hr_lev_x_0\"                             \n",
       " [8] \"hr_lev_x_1\"                             \n",
       " [9] \"hr_lev_x_10\"                            \n",
       "[10] \"hr_lev_x_11\"                            \n",
       "[11] \"hr_lev_x_12\"                            \n",
       "[12] \"hr_lev_x_13\"                            \n",
       "[13] \"hr_lev_x_14\"                            \n",
       "[14] \"hr_lev_x_15\"                            \n",
       "[15] \"hr_lev_x_16\"                            \n",
       "[16] \"hr_lev_x_17\"                            \n",
       "[17] \"hr_lev_x_18\"                            \n",
       "[18] \"hr_lev_x_19\"                            \n",
       "[19] \"hr_lev_x_2\"                             \n",
       "[20] \"hr_lev_x_20\"                            \n",
       "[21] \"hr_lev_x_21\"                            \n",
       "[22] \"hr_lev_x_22\"                            \n",
       "[23] \"hr_lev_x_23\"                            \n",
       "[24] \"hr_lev_x_3\"                             \n",
       "[25] \"hr_lev_x_4\"                             \n",
       "[26] \"hr_lev_x_5\"                             \n",
       "[27] \"hr_lev_x_6\"                             \n",
       "[28] \"hr_lev_x_7\"                             \n",
       "[29] \"hr_lev_x_8\"                             \n",
       "[30] \"hr_lev_x_9\"                             \n",
       "[31] \"weathersit_lev_x_Clear_to_partly_cloudy\"\n",
       "[32] \"weathersit_lev_x_Light_Precipitation\"   \n",
       "[33] \"weathersit_lev_x_Misty\"                 "
      ]
     },
     "metadata": {},
     "output_type": "display_data"
    }
   ],
   "source": [
    "# Preparation for Gradient Boosting Machines model\n",
    "install.packages(\"vtreat\")\n",
    "library(vtreat)\n",
    "install.packages(\"magrittr\")\n",
    "library(magrittr)\n",
    "\n",
    "# Treatment plan\n",
    "treatplan <- designTreatmentsZ(bikesJuly, vars, verbose = FALSE)\n",
    "# Get the \"clean\" and \"lev\" variables from the scoreFrame\n",
    "(newvars <- treatplan %>%\n",
    "  use_series(scoreFrame) %>%               \n",
    "  filter(code %in% c(\"clean\", \"lev\")) %>%  # get the variables you care about\n",
    "  use_series(varName))                     # get the varName column"
   ]
  },
  {
   "cell_type": "code",
   "execution_count": 8,
   "metadata": {},
   "outputs": [],
   "source": [
    "# Preparing training data\n",
    "bikesJuly.treat <- prepare(treatplan, bikesJuly,  varRestriction = newvars)\n",
    "# Preparing test data\n",
    "bikesAugust.treat <- prepare(treatplan, bikesAugust, varRestriction = newvars)"
   ]
  },
  {
   "cell_type": "code",
   "execution_count": 9,
   "metadata": {},
   "outputs": [
    {
     "name": "stderr",
     "output_type": "stream",
     "text": [
      "Installing package into 'C:/Users/Dell/Documents/R/win-library/3.6'\n",
      "(as 'lib' is unspecified)\n"
     ]
    },
    {
     "name": "stdout",
     "output_type": "stream",
     "text": [
      "package 'xgboost' successfully unpacked and MD5 sums checked\n",
      "\n",
      "The downloaded binary packages are in\n",
      "\tC:\\Users\\Dell\\AppData\\Local\\Temp\\Rtmp0SArk6\\downloaded_packages\n"
     ]
    },
    {
     "name": "stderr",
     "output_type": "stream",
     "text": [
      "Warning message:\n",
      "\"package 'xgboost' was built under R version 3.6.3\"\n",
      "Attaching package: 'xgboost'\n",
      "\n",
      "The following object is masked from 'package:dplyr':\n",
      "\n",
      "    slice\n",
      "\n"
     ]
    }
   ],
   "source": [
    "# Gradient Boost model with xgboost package\n",
    "install.packages(\"xgboost\")\n",
    "library(xgboost)\n",
    "\n",
    "# Run xgb.cv\n",
    "cv <- xgb.cv(data = as.matrix(bikesJuly.treat), \n",
    "            label = bikesJuly$cnt,\n",
    "            nrounds = 100,\n",
    "            nfold = 5,\n",
    "            objective = \"reg:linear\",\n",
    "            eta = 0.3,\n",
    "            max_depth = 6,\n",
    "            early_stopping_rounds = 10,\n",
    "            verbose = 0   # silent\n",
    ")"
   ]
  },
  {
   "cell_type": "code",
   "execution_count": 10,
   "metadata": {},
   "outputs": [
    {
     "data": {
      "text/html": [
       "<table>\n",
       "<thead><tr><th scope=col>ntrees.train</th><th scope=col>ntrees.test</th></tr></thead>\n",
       "<tbody>\n",
       "\t<tr><td>63</td><td>53</td></tr>\n",
       "</tbody>\n",
       "</table>\n"
      ],
      "text/latex": [
       "\\begin{tabular}{r|ll}\n",
       " ntrees.train & ntrees.test\\\\\n",
       "\\hline\n",
       "\t 63 & 53\\\\\n",
       "\\end{tabular}\n"
      ],
      "text/markdown": [
       "\n",
       "| ntrees.train | ntrees.test |\n",
       "|---|---|\n",
       "| 63 | 53 |\n",
       "\n"
      ],
      "text/plain": [
       "  ntrees.train ntrees.test\n",
       "1 63           53         "
      ]
     },
     "metadata": {},
     "output_type": "display_data"
    }
   ],
   "source": [
    "# Getting the evaluation log\n",
    "elog <- cv$evaluation_log\n",
    "\n",
    "# Determining how many trees minimize training and test error\n",
    "elog %>% \n",
    "  summarize(ntrees.train = which.min(train_rmse_mean),   # the index of min(train_rmse_mean)\n",
    "            ntrees.test  = which.min(test_rmse_mean))    # the index of min(test_rmse_mean)"
   ]
  },
  {
   "cell_type": "code",
   "execution_count": 11,
   "metadata": {},
   "outputs": [],
   "source": [
    "# Running xgboost with appropriate number of trees\n",
    "bike_model_xgb <- xgboost(data = as.matrix(bikesJuly.treat), # training data as matrix\n",
    "                   label = bikesJuly$cnt,  # column of outcomes\n",
    "                   nrounds = 63,       # number of trees to build\n",
    "                   objective = \"reg:linear\", # objective\n",
    "                   eta = 0.3,\n",
    "                   depth = 6,\n",
    "                   verbose = 0  # silent\n",
    ")"
   ]
  },
  {
   "cell_type": "code",
   "execution_count": 12,
   "metadata": {},
   "outputs": [
    {
     "data": {
      "image/png": "[encoded data removed]",
      "text/plain": [
       "plot without title"
      ]
     },
     "metadata": {},
     "output_type": "display_data"
    }
   ],
   "source": [
    "# Pedictions on test data\n",
    "bikesAugust$pred <- predict(bike_model_xgb, as.matrix(bikesAugust.treat))\n",
    "\n",
    "# Plot of predictions vs actual bike rental count\n",
    "ggplot(bikesAugust, aes(x = pred, y = cnt)) + \n",
    "  geom_point() + \n",
    "  geom_abline()"
   ]
  },
  {
   "cell_type": "code",
   "execution_count": 13,
   "metadata": {},
   "outputs": [
    {
     "data": {
      "text/html": [
       "<table>\n",
       "<thead><tr><th scope=col>rmse</th></tr></thead>\n",
       "<tbody>\n",
       "\t<tr><td>76.16694</td></tr>\n",
       "</tbody>\n",
       "</table>\n"
      ],
      "text/latex": [
       "\\begin{tabular}{r|l}\n",
       " rmse\\\\\n",
       "\\hline\n",
       "\t 76.16694\\\\\n",
       "\\end{tabular}\n"
      ],
      "text/markdown": [
       "\n",
       "| rmse |\n",
       "|---|\n",
       "| 76.16694 |\n",
       "\n"
      ],
      "text/plain": [
       "  rmse    \n",
       "1 76.16694"
      ]
     },
     "metadata": {},
     "output_type": "display_data"
    }
   ],
   "source": [
    "# Calculating RMSE of Gradient Boosting model\n",
    "bikesAugust %>%\n",
    "  mutate(residuals = cnt - pred) %>%\n",
    "  summarize(rmse = sqrt(mean(residuals^2)))"
   ]
  },
  {
   "cell_type": "code",
   "execution_count": 14,
   "metadata": {},
   "outputs": [
    {
     "data": {
      "image/png": "[encoded data removed]",
      "text/plain": [
       "plot without title"
      ]
     },
     "metadata": {},
     "output_type": "display_data"
    }
   ],
   "source": [
    "# Plot of predictions and actual bike rentals as a function of time (days)\n",
    "bikesAugust %>% \n",
    "  mutate(instant = (instant - min(instant))/24) %>%  # converting unit to days\n",
    "  gather(key = valuetype, value = value, cnt, pred) %>%\n",
    "  filter(instant < 14) %>% # first two weeks\n",
    "  ggplot(aes(x = instant, y = value, color = valuetype, linetype = valuetype)) + \n",
    "  geom_point() + \n",
    "  geom_line() + \n",
    "  scale_x_continuous(\"Day\", breaks = 0:14, labels = 0:14) + \n",
    "  scale_color_brewer(palette = \"Dark2\") + \n",
    "  ggtitle(\"Predicted August bike rentals, Gradient Boosting model\")"
   ]
  },
  {
   "cell_type": "code",
   "execution_count": 15,
   "metadata": {},
   "outputs": [],
   "source": [
    "# Comparison of Root Mean Squared Errors on both models\n",
    "# RMSE(Random_Forest) = 95.99\n",
    "# RMSE(Gradient_Boosting) = 76.94\n",
    "\n",
    "### Result: Gradient Boosting model performs significantly better than Random Forest model on this case.\n",
    "## Random Forest model also successful with a 0.82 R squared."
   ]
  }
 ],
 "metadata": {
  "kernelspec": {
   "display_name": "R",
   "language": "R",
   "name": "ir"
  },
  "language_info": {
   "codemirror_mode": "r",
   "file_extension": ".r",
   "mimetype": "text/x-r-source",
   "name": "R",
   "pygments_lexer": "r",
   "version": "3.6.1"
  }
 },
 "nbformat": 4,
 "nbformat_minor": 4
}
